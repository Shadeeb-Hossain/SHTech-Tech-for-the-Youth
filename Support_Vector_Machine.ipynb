{
  "nbformat": 4,
  "nbformat_minor": 0,
  "metadata": {
    "colab": {
      "provenance": []
    },
    "kernelspec": {
      "name": "python3",
      "display_name": "Python 3"
    },
    "language_info": {
      "name": "python"
    }
  },
  "cells": [
    {
      "cell_type": "markdown",
      "source": [
        "Name : Shadeeb Hossain"
      ],
      "metadata": {
        "id": "Oy_ueHgtJxU7"
      }
    },
    {
      "cell_type": "markdown",
      "source": [
        "1. ***Step-1 ***Importing the libraries\n"
      ],
      "metadata": {
        "id": "M6UXFJD5LigY"
      }
    },
    {
      "cell_type": "code",
      "execution_count": 21,
      "metadata": {
        "id": "XOnpRZsgJsTQ"
      },
      "outputs": [],
      "source": [
        "import numpy as np\n",
        "import matplotlib\n",
        "import matplotlib.pyplot as plt\n"
      ]
    },
    {
      "cell_type": "markdown",
      "source": [
        "2. **Step-2 :**Loading the datasets"
      ],
      "metadata": {
        "id": "iB9KLDUbLp8h"
      }
    },
    {
      "cell_type": "code",
      "source": [
        "import tensorflow as tf\n",
        "(Xtr,ytr),(Xts,yts)=tf.keras.datasets.mnist.load_data()\n",
        "print('Xtr shape:%s' %str(Xtr.shape))\n",
        "print('Xts shape:%s'%str (Xts.shape))\n",
        "ntr=Xtr.shape[0]\n",
        "nts=Xts.shape[0]\n",
        "nrow=Xtr.shape[1]\n",
        "ncol=Xtr.shape[2]\n"
      ],
      "metadata": {
        "colab": {
          "base_uri": "https://localhost:8080/"
        },
        "id": "DAOZBEPdKmAx",
        "outputId": "3b77a0fc-efb5-417c-dd1a-3c4299639cd2"
      },
      "execution_count": 2,
      "outputs": [
        {
          "output_type": "stream",
          "name": "stdout",
          "text": [
            "Downloading data from https://storage.googleapis.com/tensorflow/tf-keras-datasets/mnist.npz\n",
            "11490434/11490434 [==============================] - 0s 0us/step\n",
            "Xtr shape:(60000, 28, 28)\n",
            "Xts shape:(10000, 28, 28)\n"
          ]
        }
      ]
    },
    {
      "cell_type": "markdown",
      "source": [
        "**3. Step-3 :**Scaling the datasets, so that value is between -1 to 1"
      ],
      "metadata": {
        "id": "heVX6VdTRe2V"
      }
    },
    {
      "cell_type": "code",
      "source": [
        "npix=nrow*ncol\n",
        "Xtr=2*(Xtr/255-0.5)\n",
        "Xtr=Xtr.reshape(ntr,npix)\n",
        "Xts=2*(Xts/255-0.5)\n",
        "Xts=Xts.reshape(nts,npix)"
      ],
      "metadata": {
        "id": "G1ItxM4WRouu"
      },
      "execution_count": 3,
      "outputs": []
    },
    {
      "cell_type": "markdown",
      "source": [
        "**Step-4 :**Plotting function"
      ],
      "metadata": {
        "id": "qYisYC3voBVX"
      }
    },
    {
      "cell_type": "code",
      "source": [
        "def plt_digit(ax,x):\n",
        "  nrow=28\n",
        "  ncol=28\n",
        "  xsq=x.reshape(nrow,ncol)\n",
        "  ax.imshow(xsq,cmap='gray')\n",
        "  ax.set_xticks([])\n",
        "  ax.set_yticks([])\n",
        "\n",
        "#Select random digits\n",
        "\n",
        "nplt=8\n",
        "Iperm=np.random.permutation(ntr)\n",
        "\n",
        "\n",
        "# Plot the images using subplot command\n",
        "fig,ax=plt.subplots(1,nplt,figsize=(10,3))\n",
        "for i in range(nplt):\n",
        "  ind=Iperm[i]\n",
        "  plt_digit(ax[i],Xtr[ind,:])"
      ],
      "metadata": {
        "colab": {
          "base_uri": "https://localhost:8080/",
          "height": 119
        },
        "id": "pNIYFjp3oP-I",
        "outputId": "be1cb160-0728-4371-ecca-8cdcd9686a8f"
      },
      "execution_count": 4,
      "outputs": [
        {
          "output_type": "display_data",
          "data": {
            "text/plain": [
              "<Figure size 1000x300 with 8 Axes>"
            ],
            "image/png": "[encoded data removed]"
          },
          "metadata": {}
        }
      ]
    },
    {
      "cell_type": "markdown",
      "source": [
        "**Step-5 : **Logistic Regression"
      ],
      "metadata": {
        "id": "xuSXR54dzrz6"
      }
    },
    {
      "cell_type": "code",
      "source": [
        "ntr1=5000\n",
        "Xtr1=Xtr[Iperm[:ntr1]]\n",
        "from sklearn import linear_model\n",
        "clf=linear_model.LogisticRegression(verbose=1,solver='lbfgs', \\\n",
        "                                    max_iter=500)\n",
        "clf.fit(Xtr1,ytr[Iperm[:ntr1]])"
      ],
      "metadata": {
        "colab": {
          "base_uri": "https://localhost:8080/",
          "height": 223
        },
        "id": "w6MU-48Pzp6f",
        "outputId": "9ececf3c-3605-4ede-9e47-f590061a5ab6"
      },
      "execution_count": 5,
      "outputs": [
        {
          "output_type": "stream",
          "name": "stderr",
          "text": [
            "/usr/local/lib/python3.10/dist-packages/sklearn/linear_model/_logistic.py:458: ConvergenceWarning: lbfgs failed to converge (status=1):\n",
            "STOP: TOTAL NO. of ITERATIONS REACHED LIMIT.\n",
            "\n",
            "Increase the number of iterations (max_iter) or scale the data as shown in:\n",
            "    https://scikit-learn.org/stable/modules/preprocessing.html\n",
            "Please also refer to the documentation for alternative solver options:\n",
            "    https://scikit-learn.org/stable/modules/linear_model.html#logistic-regression\n",
            "  n_iter_i = _check_optimize_result(\n"
          ]
        },
        {
          "output_type": "execute_result",
          "data": {
            "text/plain": [
              "LogisticRegression(max_iter=500, verbose=1)"
            ],
            "text/html": [
              "<style>#sk-container-id-1 {color: black;background-color: white;}#sk-container-id-1 pre{padding: 0;}#sk-container-id-1 div.sk-toggleable {background-color: white;}#sk-container-id-1 label.sk-toggleable__label {cursor: pointer;display: block;width: 100%;margin-bottom: 0;padding: 0.3em;box-sizing: border-box;text-align: center;}#sk-container-id-1 label.sk-toggleable__label-arrow:before {content: \"▸\";float: left;margin-right: 0.25em;color: #696969;}#sk-container-id-1 label.sk-toggleable__label-arrow:hover:before {color: black;}#sk-container-id-1 div.sk-estimator:hover label.sk-toggleable__label-arrow:before {color: black;}#sk-container-id-1 div.sk-toggleable__content {max-height: 0;max-width: 0;overflow: hidden;text-align: left;background-color: #f0f8ff;}#sk-container-id-1 div.sk-toggleable__content pre {margin: 0.2em;color: black;border-radius: 0.25em;background-color: #f0f8ff;}#sk-container-id-1 input.sk-toggleable__control:checked~div.sk-toggleable__content {max-height: 200px;max-width: 100%;overflow: auto;}#sk-container-id-1 input.sk-toggleable__control:checked~label.sk-toggleable__label-arrow:before {content: \"▾\";}#sk-container-id-1 div.sk-estimator input.sk-toggleable__control:checked~label.sk-toggleable__label {background-color: #d4ebff;}#sk-container-id-1 div.sk-label input.sk-toggleable__control:checked~label.sk-toggleable__label {background-color: #d4ebff;}#sk-container-id-1 input.sk-hidden--visually {border: 0;clip: rect(1px 1px 1px 1px);clip: rect(1px, 1px, 1px, 1px);height: 1px;margin: -1px;overflow: hidden;padding: 0;position: absolute;width: 1px;}#sk-container-id-1 div.sk-estimator {font-family: monospace;background-color: #f0f8ff;border: 1px dotted black;border-radius: 0.25em;box-sizing: border-box;margin-bottom: 0.5em;}#sk-container-id-1 div.sk-estimator:hover {background-color: #d4ebff;}#sk-container-id-1 div.sk-parallel-item::after {content: \"\";width: 100%;border-bottom: 1px solid gray;flex-grow: 1;}#sk-container-id-1 div.sk-label:hover label.sk-toggleable__label {background-color: #d4ebff;}#sk-container-id-1 div.sk-serial::before {content: \"\";position: absolute;border-left: 1px solid gray;box-sizing: border-box;top: 0;bottom: 0;left: 50%;z-index: 0;}#sk-container-id-1 div.sk-serial {display: flex;flex-direction: column;align-items: center;background-color: white;padding-right: 0.2em;padding-left: 0.2em;position: relative;}#sk-container-id-1 div.sk-item {position: relative;z-index: 1;}#sk-container-id-1 div.sk-parallel {display: flex;align-items: stretch;justify-content: center;background-color: white;position: relative;}#sk-container-id-1 div.sk-item::before, #sk-container-id-1 div.sk-parallel-item::before {content: \"\";position: absolute;border-left: 1px solid gray;box-sizing: border-box;top: 0;bottom: 0;left: 50%;z-index: -1;}#sk-container-id-1 div.sk-parallel-item {display: flex;flex-direction: column;z-index: 1;position: relative;background-color: white;}#sk-container-id-1 div.sk-parallel-item:first-child::after {align-self: flex-end;width: 50%;}#sk-container-id-1 div.sk-parallel-item:last-child::after {align-self: flex-start;width: 50%;}#sk-container-id-1 div.sk-parallel-item:only-child::after {width: 0;}#sk-container-id-1 div.sk-dashed-wrapped {border: 1px dashed gray;margin: 0 0.4em 0.5em 0.4em;box-sizing: border-box;padding-bottom: 0.4em;background-color: white;}#sk-container-id-1 div.sk-label label {font-family: monospace;font-weight: bold;display: inline-block;line-height: 1.2em;}#sk-container-id-1 div.sk-label-container {text-align: center;}#sk-container-id-1 div.sk-container {/* jupyter's `normalize.less` sets `[hidden] { display: none; }` but bootstrap.min.css set `[hidden] { display: none !important; }` so we also need the `!important` here to be able to override the default hidden behavior on the sphinx rendered scikit-learn.org. See: https://github.com/scikit-learn/scikit-learn/issues/21755 */display: inline-block !important;position: relative;}#sk-container-id-1 div.sk-text-repr-fallback {display: none;}</style><div id=\"sk-container-id-1\" class=\"sk-top-container\"><div class=\"sk-text-repr-fallback\"><pre>LogisticRegression(max_iter=500, verbose=1)</pre><b>In a Jupyter environment, please rerun this cell to show the HTML representation or trust the notebook. <br />On GitHub, the HTML representation is unable to render, please try loading this page with nbviewer.org.</b></div><div class=\"sk-container\" hidden><div class=\"sk-item\"><div class=\"sk-estimator sk-toggleable\"><input class=\"sk-toggleable__control sk-hidden--visually\" id=\"sk-estimator-id-1\" type=\"checkbox\" checked><label for=\"sk-estimator-id-1\" class=\"sk-toggleable__label sk-toggleable__label-arrow\">LogisticRegression</label><div class=\"sk-toggleable__content\"><pre>LogisticRegression(max_iter=500, verbose=1)</pre></div></div></div></div></div>"
            ]
          },
          "metadata": {},
          "execution_count": 5
        }
      ]
    },
    {
      "cell_type": "markdown",
      "source": [
        "**Step-6** : Importing pickle- Since it takes long to run the optimizer"
      ],
      "metadata": {
        "id": "-qUNYovF4I72"
      }
    },
    {
      "cell_type": "code",
      "source": [
        "import pickle\n",
        "with open('clf.pickle','wb') as f:\n",
        "  pickle.dump(clf,f)"
      ],
      "metadata": {
        "id": "25Emvxpf4PuU"
      },
      "execution_count": 6,
      "outputs": []
    },
    {
      "cell_type": "code",
      "source": [
        "with open('clf.pickle','rb') as f:\n",
        "  clf=pickle.load(f)"
      ],
      "metadata": {
        "id": "FhoiGCuw7tyu"
      },
      "execution_count": 7,
      "outputs": []
    },
    {
      "cell_type": "code",
      "source": [
        "nts1=5000\n",
        "Iperm_ts=np.random.permutation(nts)\n",
        "Xts1=Xts[Iperm_ts[:nts1]]\n",
        "yts1=yts[Iperm_ts[:nts1]]\n",
        "yhat=clf.predict(Xts1)\n",
        "acc=np.mean(yhat==yts1)\n",
        "print('Accuracy:%f'%acc)"
      ],
      "metadata": {
        "colab": {
          "base_uri": "https://localhost:8080/"
        },
        "id": "rlaZmvP18U5i",
        "outputId": "1873c64d-f4e7-4ece-8dbc-ef1d5d97ac48"
      },
      "execution_count": 8,
      "outputs": [
        {
          "output_type": "stream",
          "name": "stdout",
          "text": [
            "Accuracy:0.889400\n"
          ]
        }
      ]
    },
    {
      "cell_type": "markdown",
      "source": [
        "**Step-7 :** Now let's visualize the data"
      ],
      "metadata": {
        "id": "RYnIpAMi-yRZ"
      }
    },
    {
      "cell_type": "code",
      "source": [
        "nplt=4\n",
        "Ierr=np.where(yhat!=yts1)[0]\n",
        "fig,ax=plt.subplots(1,nplt,figsize=(10,3))\n",
        "for i in range(nplt):\n",
        "  ind=Ierr[i]\n",
        "  plt_digit(ax[i],Xts1[ind,:])\n",
        "  title='y=%d,yhat=%d'%(yts1[ind],yhat[ind])\n",
        "  ax[i].set_title(title)"
      ],
      "metadata": {
        "colab": {
          "base_uri": "https://localhost:8080/",
          "height": 227
        },
        "id": "0OcPENO7-xwF",
        "outputId": "41afac29-6a98-4550-f98e-03e4a179a909"
      },
      "execution_count": 9,
      "outputs": [
        {
          "output_type": "display_data",
          "data": {
            "text/plain": [
              "<Figure size 1000x300 with 4 Axes>"
            ],
            "image/png": "[encoded data removed]"
          },
          "metadata": {}
        }
      ]
    },
    {
      "cell_type": "markdown",
      "source": [
        "**Step-8:** Creating a confusion matrix"
      ],
      "metadata": {
        "id": "evc4lVCNJ18j"
      }
    },
    {
      "cell_type": "code",
      "source": [
        "from sklearn.metrics import confusion_matrix\n",
        "cm=confusion_matrix(yts1,yhat)\n",
        "print(cm)\n",
        "\n",
        "# Normalize the confusion matrix\n",
        "Csum=np.sum(cm,1)\n",
        "cmn=cm/Csum[:,np.newaxis]\n",
        "print(cmn)\n",
        "\n",
        "# Print the confusion matrix\n",
        "\n",
        "print(np.array_str(cm,precision=3,suppress_small=True))\n",
        "plt.imshow(cmn,interpolation='none')\n",
        "plt.colorbar()"
      ],
      "metadata": {
        "colab": {
          "base_uri": "https://localhost:8080/",
          "height": 1000
        },
        "id": "MJ7TX-fZKfOA",
        "outputId": "a5a9a3a6-aeb4-4477-946d-0e0cad0b73f6"
      },
      "execution_count": 10,
      "outputs": [
        {
          "output_type": "stream",
          "name": "stdout",
          "text": [
            "[[461   0   5   1   1   7   2   1   1   3]\n",
            " [  0 537   4   2   0   4   0   1   9   0]\n",
            " [  3  10 437  17   9   4  10   9  17   2]\n",
            " [  4   4   7 433   0  24   0   8   9   6]\n",
            " [  1   3   4   3 457   2   5   4   6  25]\n",
            " [  5   5   4  21  10 373  10   4  10   8]\n",
            " [  7   3  10   1  14   6 435   1   2   0]\n",
            " [  0   6   9   5   6   0   0 451   1  17]\n",
            " [  7   8  10  16   8  22   2   8 412   6]\n",
            " [  8   2   1   5  19   3   0  20   6 451]]\n",
            "[[0.95643154 0.         0.01037344 0.00207469 0.00207469 0.01452282\n",
            "  0.00414938 0.00207469 0.00207469 0.00622407]\n",
            " [0.         0.96409336 0.00718133 0.00359066 0.         0.00718133\n",
            "  0.         0.00179533 0.01615799 0.        ]\n",
            " [0.00579151 0.01930502 0.84362934 0.03281853 0.01737452 0.00772201\n",
            "  0.01930502 0.01737452 0.03281853 0.003861  ]\n",
            " [0.00808081 0.00808081 0.01414141 0.87474747 0.         0.04848485\n",
            "  0.         0.01616162 0.01818182 0.01212121]\n",
            " [0.00196078 0.00588235 0.00784314 0.00588235 0.89607843 0.00392157\n",
            "  0.00980392 0.00784314 0.01176471 0.04901961]\n",
            " [0.01111111 0.01111111 0.00888889 0.04666667 0.02222222 0.82888889\n",
            "  0.02222222 0.00888889 0.02222222 0.01777778]\n",
            " [0.01461378 0.00626305 0.02087683 0.00208768 0.02922756 0.0125261\n",
            "  0.90814196 0.00208768 0.00417537 0.        ]\n",
            " [0.         0.01212121 0.01818182 0.01010101 0.01212121 0.\n",
            "  0.         0.91111111 0.0020202  0.03434343]\n",
            " [0.01402806 0.01603206 0.02004008 0.03206413 0.01603206 0.04408818\n",
            "  0.00400802 0.01603206 0.8256513  0.01202405]\n",
            " [0.01553398 0.0038835  0.00194175 0.00970874 0.0368932  0.00582524\n",
            "  0.         0.03883495 0.01165049 0.87572816]]\n",
            "[[461   0   5   1   1   7   2   1   1   3]\n",
            " [  0 537   4   2   0   4   0   1   9   0]\n",
            " [  3  10 437  17   9   4  10   9  17   2]\n",
            " [  4   4   7 433   0  24   0   8   9   6]\n",
            " [  1   3   4   3 457   2   5   4   6  25]\n",
            " [  5   5   4  21  10 373  10   4  10   8]\n",
            " [  7   3  10   1  14   6 435   1   2   0]\n",
            " [  0   6   9   5   6   0   0 451   1  17]\n",
            " [  7   8  10  16   8  22   2   8 412   6]\n",
            " [  8   2   1   5  19   3   0  20   6 451]]\n"
          ]
        },
        {
          "output_type": "execute_result",
          "data": {
            "text/plain": [
              "<matplotlib.colorbar.Colorbar at 0x7c7d89d9a440>"
            ]
          },
          "metadata": {},
          "execution_count": 10
        },
        {
          "output_type": "display_data",
          "data": {
            "text/plain": [
              "<Figure size 640x480 with 2 Axes>"
            ],
            "image/png": "[encoded data removed]"
          },
          "metadata": {}
        }
      ]
    },
    {
      "cell_type": "markdown",
      "source": [
        "**Step-9** : Visualizing the weights .\n",
        "\n",
        "Visualizing the weights for each digit will show a blurry version of the digit.\n",
        "\n",
        "The bluriness is correlated to shifts, rotations and other variations."
      ],
      "metadata": {
        "id": "WAWnJCoa8FxL"
      }
    },
    {
      "cell_type": "code",
      "source": [
        "w=clf.coef_\n",
        "ndigit=w.shape[0]\n",
        "fig,ax=plt.subplots(2,5,figsize=(10,5))\n",
        "for i in range (ndigit):\n",
        "  irow = i // 5\n",
        "  icol = i % 5\n",
        "  plt_digit(ax[irow,icol],w[i,:])\n"
      ],
      "metadata": {
        "colab": {
          "base_uri": "https://localhost:8080/",
          "height": 380
        },
        "id": "4GEDmrTE_CQ-",
        "outputId": "543a82be-e82f-4a9d-91de-43602fa611c1"
      },
      "execution_count": 11,
      "outputs": [
        {
          "output_type": "display_data",
          "data": {
            "text/plain": [
              "<Figure size 1000x500 with 10 Axes>"
            ],
            "image/png": "[encoded data removed]"
          },
          "metadata": {}
        }
      ]
    },
    {
      "cell_type": "markdown",
      "source": [
        "**Step-10** : Finding digits that are '2' and not '2'."
      ],
      "metadata": {
        "id": "2sGH0m5SENFg"
      }
    },
    {
      "cell_type": "code",
      "source": [
        "\n",
        "idig=2\n",
        "Idig=np.where(yts==idig)[0]\n",
        "Inotdig=np.where(yts!=idig)[0]\n",
        "n=len(Idig)\n",
        "Idig= Idig[np.random.permutation(n)]\n",
        "n=len(Inotdig)\n",
        "Inotdig=Inotdig[np.random.permutation(n)]\n",
        "\n",
        "# Set the weight to the first digit\n",
        "\n",
        "w=Xtr[Idig[0],:]\n",
        "w=w/(np.sum(w**2))\n",
        "\n",
        "# Finding the correlation with other digit '7'\n",
        "\n",
        "nplot=7\n",
        "fig,ax=plt.subplots(2,n,figsize=(12,6))\n",
        "rho=np.zeros(nplot)\n",
        "for i in range(nplot):\n",
        "  #Get a true and false digit\n",
        "  jo=Idig[i]\n",
        "  j1=Inotdig[i]\n",
        "  x0=Xtr[jo,:]\n",
        "  x1=Xtr[j1,:]\n",
        "  # Compute the correlation between the two digits\n",
        "  rho0=w.dot(x0)\n",
        "  rho1=w.dot(x1)\n",
        "  plt_digit(ax[0,i],x0)\n",
        "  ax[0,i].set_title('rho=%f'%rho0)\n",
        "  plt_digit(ax[1,i],x1)\n",
        "  ax[1,i].set_title('rho=%f'%rho1)\n",
        "\n",
        "plt.tight_layout()\n",
        "\n"
      ],
      "metadata": {
        "id": "mZasQASJEY9F"
      },
      "execution_count": null,
      "outputs": []
    },
    {
      "cell_type": "markdown",
      "source": [
        "**Step-11 :** SVM classifier using Linear Kernel"
      ],
      "metadata": {
        "id": "XSJvL55Fz40u"
      }
    },
    {
      "cell_type": "code",
      "source": [
        "from sklearn import svm\n",
        "# Create a classifier , a support vector classifier\n",
        "\n",
        "svc=svm.SVC(probability=False,kernel=\"linear\",C=2.8, gamma=0.0073,verbose=10)"
      ],
      "metadata": {
        "id": "VdVT4R3Jz0YL"
      },
      "execution_count": 13,
      "outputs": []
    },
    {
      "cell_type": "code",
      "source": [
        "ntr1=5000\n",
        "nts1=5000\n",
        "Xtr1=Xtr[Iperm[:ntr1],:]\n",
        "ytr1=ytr[Iperm[:ntr1]]\n",
        "Xts1=Xts[Iperm_ts[:nts1],:]\n",
        "yts1=yts[Iperm_ts[:nts1]]\n",
        "\n",
        "svc.fit(Xtr1,ytr1)"
      ],
      "metadata": {
        "colab": {
          "base_uri": "https://localhost:8080/",
          "height": 93
        },
        "id": "tzj6Ijen3fVz",
        "outputId": "d69e88db-12f5-4521-b6d9-b224f63f499a"
      },
      "execution_count": 15,
      "outputs": [
        {
          "output_type": "stream",
          "name": "stdout",
          "text": [
            "[LibSVM]"
          ]
        },
        {
          "output_type": "execute_result",
          "data": {
            "text/plain": [
              "SVC(C=2.8, gamma=0.0073, kernel='linear', verbose=10)"
            ],
            "text/html": [
              "<style>#sk-container-id-2 {color: black;background-color: white;}#sk-container-id-2 pre{padding: 0;}#sk-container-id-2 div.sk-toggleable {background-color: white;}#sk-container-id-2 label.sk-toggleable__label {cursor: pointer;display: block;width: 100%;margin-bottom: 0;padding: 0.3em;box-sizing: border-box;text-align: center;}#sk-container-id-2 label.sk-toggleable__label-arrow:before {content: \"▸\";float: left;margin-right: 0.25em;color: #696969;}#sk-container-id-2 label.sk-toggleable__label-arrow:hover:before {color: black;}#sk-container-id-2 div.sk-estimator:hover label.sk-toggleable__label-arrow:before {color: black;}#sk-container-id-2 div.sk-toggleable__content {max-height: 0;max-width: 0;overflow: hidden;text-align: left;background-color: #f0f8ff;}#sk-container-id-2 div.sk-toggleable__content pre {margin: 0.2em;color: black;border-radius: 0.25em;background-color: #f0f8ff;}#sk-container-id-2 input.sk-toggleable__control:checked~div.sk-toggleable__content {max-height: 200px;max-width: 100%;overflow: auto;}#sk-container-id-2 input.sk-toggleable__control:checked~label.sk-toggleable__label-arrow:before {content: \"▾\";}#sk-container-id-2 div.sk-estimator input.sk-toggleable__control:checked~label.sk-toggleable__label {background-color: #d4ebff;}#sk-container-id-2 div.sk-label input.sk-toggleable__control:checked~label.sk-toggleable__label {background-color: #d4ebff;}#sk-container-id-2 input.sk-hidden--visually {border: 0;clip: rect(1px 1px 1px 1px);clip: rect(1px, 1px, 1px, 1px);height: 1px;margin: -1px;overflow: hidden;padding: 0;position: absolute;width: 1px;}#sk-container-id-2 div.sk-estimator {font-family: monospace;background-color: #f0f8ff;border: 1px dotted black;border-radius: 0.25em;box-sizing: border-box;margin-bottom: 0.5em;}#sk-container-id-2 div.sk-estimator:hover {background-color: #d4ebff;}#sk-container-id-2 div.sk-parallel-item::after {content: \"\";width: 100%;border-bottom: 1px solid gray;flex-grow: 1;}#sk-container-id-2 div.sk-label:hover label.sk-toggleable__label {background-color: #d4ebff;}#sk-container-id-2 div.sk-serial::before {content: \"\";position: absolute;border-left: 1px solid gray;box-sizing: border-box;top: 0;bottom: 0;left: 50%;z-index: 0;}#sk-container-id-2 div.sk-serial {display: flex;flex-direction: column;align-items: center;background-color: white;padding-right: 0.2em;padding-left: 0.2em;position: relative;}#sk-container-id-2 div.sk-item {position: relative;z-index: 1;}#sk-container-id-2 div.sk-parallel {display: flex;align-items: stretch;justify-content: center;background-color: white;position: relative;}#sk-container-id-2 div.sk-item::before, #sk-container-id-2 div.sk-parallel-item::before {content: \"\";position: absolute;border-left: 1px solid gray;box-sizing: border-box;top: 0;bottom: 0;left: 50%;z-index: -1;}#sk-container-id-2 div.sk-parallel-item {display: flex;flex-direction: column;z-index: 1;position: relative;background-color: white;}#sk-container-id-2 div.sk-parallel-item:first-child::after {align-self: flex-end;width: 50%;}#sk-container-id-2 div.sk-parallel-item:last-child::after {align-self: flex-start;width: 50%;}#sk-container-id-2 div.sk-parallel-item:only-child::after {width: 0;}#sk-container-id-2 div.sk-dashed-wrapped {border: 1px dashed gray;margin: 0 0.4em 0.5em 0.4em;box-sizing: border-box;padding-bottom: 0.4em;background-color: white;}#sk-container-id-2 div.sk-label label {font-family: monospace;font-weight: bold;display: inline-block;line-height: 1.2em;}#sk-container-id-2 div.sk-label-container {text-align: center;}#sk-container-id-2 div.sk-container {/* jupyter's `normalize.less` sets `[hidden] { display: none; }` but bootstrap.min.css set `[hidden] { display: none !important; }` so we also need the `!important` here to be able to override the default hidden behavior on the sphinx rendered scikit-learn.org. See: https://github.com/scikit-learn/scikit-learn/issues/21755 */display: inline-block !important;position: relative;}#sk-container-id-2 div.sk-text-repr-fallback {display: none;}</style><div id=\"sk-container-id-2\" class=\"sk-top-container\"><div class=\"sk-text-repr-fallback\"><pre>SVC(C=2.8, gamma=0.0073, kernel=&#x27;linear&#x27;, verbose=10)</pre><b>In a Jupyter environment, please rerun this cell to show the HTML representation or trust the notebook. <br />On GitHub, the HTML representation is unable to render, please try loading this page with nbviewer.org.</b></div><div class=\"sk-container\" hidden><div class=\"sk-item\"><div class=\"sk-estimator sk-toggleable\"><input class=\"sk-toggleable__control sk-hidden--visually\" id=\"sk-estimator-id-2\" type=\"checkbox\" checked><label for=\"sk-estimator-id-2\" class=\"sk-toggleable__label sk-toggleable__label-arrow\">SVC</label><div class=\"sk-toggleable__content\"><pre>SVC(C=2.8, gamma=0.0073, kernel=&#x27;linear&#x27;, verbose=10)</pre></div></div></div></div></div>"
            ]
          },
          "metadata": {},
          "execution_count": 15
        }
      ]
    },
    {
      "cell_type": "code",
      "source": [
        "import pickle\n",
        "with open('svc.pickle','wb') as fp:\n",
        "  pickle.dump([svc,Xtr1,ytr1],fp)"
      ],
      "metadata": {
        "id": "VT7QFGo74Wk9"
      },
      "execution_count": 18,
      "outputs": []
    },
    {
      "cell_type": "code",
      "source": [
        "import pickle\n",
        "with open('svc.pickle','rb') as fp:\n",
        "  [svc,Xtr1,ytr1]=pickle.load(fp)"
      ],
      "metadata": {
        "id": "gPe5v6VH5b-w"
      },
      "execution_count": 19,
      "outputs": []
    },
    {
      "cell_type": "markdown",
      "source": [
        "**Step-12 :**Predicting and Measuring Accuracy using SVC"
      ],
      "metadata": {
        "id": "niWK5VUB5zJ3"
      }
    },
    {
      "cell_type": "code",
      "source": [
        "yhat_ts=svc.predict(Xts1)\n",
        "acc=np.mean(yhat_ts==yts1)\n",
        "print('Accuracy:%f'%acc)"
      ],
      "metadata": {
        "colab": {
          "base_uri": "https://localhost:8080/"
        },
        "id": "wKQ2TML354eo",
        "outputId": "e0f96b76-349a-44b4-e432-02f1d977642c"
      },
      "execution_count": 20,
      "outputs": [
        {
          "output_type": "stream",
          "name": "stdout",
          "text": [
            "Accuracy:0.908800\n"
          ]
        }
      ]
    }
  ]
}