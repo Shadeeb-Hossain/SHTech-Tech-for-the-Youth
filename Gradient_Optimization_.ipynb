{
  "cells": [
    {
      "cell_type": "markdown",
      "metadata": {
        "id": "PDTrorqtJYcI"
      },
      "source": [
        "Gradient Descent Optimization\n",
        "\n",
        "Name : Shadeeb Hossain\n",
        "\n",
        "Tutorial blog : https://shtech-techfortheyouth.wordpress.com/2024/06/18/gradient-descent-optimization/"
      ]
    },
    {
      "cell_type": "code",
      "execution_count": null,
      "metadata": {
        "id": "VqmHgAaj2nAJ"
      },
      "outputs": [],
      "source": [
        "# Importing the libraries\n",
        "import numpy as np\n",
        "import matplotlib\n",
        "import matplotlib.pyplot as plt\n",
        "import pandas as pd\n",
        "from sklearn import datasets, linear_model,preprocessing"
      ]
    },
    {
      "cell_type": "markdown",
      "metadata": {
        "id": "ctDJg0KfJ7hM"
      },
      "source": [
        "Loading the data"
      ]
    },
    {
      "cell_type": "code",
      "execution_count": null,
      "metadata": {
        "colab": {
          "base_uri": "https://localhost:8080/",
          "height": 363
        },
        "id": "ycwbV8DF3UM_",
        "outputId": "5dcfeeb5-4ea2-4a11-ed93-93c51ef4aceb"
      },
      "outputs": [
        {
          "data": {
            "application/vnd.google.colaboratory.intrinsic+json": {
              "summary": "{\n  \"name\": \"df\",\n  \"rows\": 683,\n  \"fields\": [\n    {\n      \"column\": \"id\",\n      \"properties\": {\n        \"dtype\": \"number\",\n        \"std\": 2,\n        \"min\": 1,\n        \"max\": 10,\n        \"num_unique_values\": 10,\n        \"samples\": [\n          10,\n          3,\n          1\n        ],\n        \"semantic_type\": \"\",\n        \"description\": \"\"\n      }\n    },\n    {\n      \"column\": \"thick\",\n      \"properties\": {\n        \"dtype\": \"number\",\n        \"std\": 3,\n        \"min\": 1,\n        \"max\": 10,\n        \"num_unique_values\": 10,\n        \"samples\": [\n          6,\n          4,\n          3\n        ],\n        \"semantic_type\": \"\",\n        \"description\": \"\"\n      }\n    },\n    {\n      \"column\": \"size_unif\",\n      \"properties\": {\n        \"dtype\": \"number\",\n        \"std\": 2,\n        \"min\": 1,\n        \"max\": 10,\n        \"num_unique_values\": 10,\n        \"samples\": [\n          7,\n          4,\n          3\n        ],\n        \"semantic_type\": \"\",\n        \"description\": \"\"\n      }\n    },\n    {\n      \"column\": \"marg\",\n      \"properties\": {\n        \"dtype\": \"number\",\n        \"std\": 2,\n        \"min\": 1,\n        \"max\": 10,\n        \"num_unique_values\": 10,\n        \"samples\": [\n          9,\n          5,\n          4\n        ],\n        \"semantic_type\": \"\",\n        \"description\": \"\"\n      }\n    },\n    {\n      \"column\": \"cell_size\",\n      \"properties\": {\n        \"dtype\": \"number\",\n        \"std\": 2,\n        \"min\": 1,\n        \"max\": 10,\n        \"num_unique_values\": 10,\n        \"samples\": [\n          10,\n          7,\n          4\n        ],\n        \"semantic_type\": \"\",\n        \"description\": \"\"\n      }\n    },\n    {\n      \"column\": \"bare\",\n      \"properties\": {\n        \"dtype\": \"number\",\n        \"std\": 3.643857160492915,\n        \"min\": 1.0,\n        \"max\": 10.0,\n        \"num_unique_values\": 10,\n        \"samples\": [\n          8.0,\n          10.0,\n          9.0\n        ],\n        \"semantic_type\": \"\",\n        \"description\": \"\"\n      }\n    },\n    {\n      \"column\": \"chrom\",\n      \"properties\": {\n        \"dtype\": \"number\",\n        \"std\": 2,\n        \"min\": 1,\n        \"max\": 10,\n        \"num_unique_values\": 10,\n        \"samples\": [\n          6,\n          9,\n          5\n        ],\n        \"semantic_type\": \"\",\n        \"description\": \"\"\n      }\n    },\n    {\n      \"column\": \"normal\",\n      \"properties\": {\n        \"dtype\": \"number\",\n        \"std\": 3,\n        \"min\": 1,\n        \"max\": 10,\n        \"num_unique_values\": 10,\n        \"samples\": [\n          9,\n          2,\n          3\n        ],\n        \"semantic_type\": \"\",\n        \"description\": \"\"\n      }\n    },\n    {\n      \"column\": \"mit\",\n      \"properties\": {\n        \"dtype\": \"number\",\n        \"std\": 1,\n        \"min\": 1,\n        \"max\": 10,\n        \"num_unique_values\": 9,\n        \"samples\": [\n          8,\n          5,\n          7\n        ],\n        \"semantic_type\": \"\",\n        \"description\": \"\"\n      }\n    },\n    {\n      \"column\": \"class\",\n      \"properties\": {\n        \"dtype\": \"number\",\n        \"std\": 0,\n        \"min\": 2,\n        \"max\": 4,\n        \"num_unique_values\": 2,\n        \"samples\": [\n          4,\n          2\n        ],\n        \"semantic_type\": \"\",\n        \"description\": \"\"\n      }\n    }\n  ]\n}",
              "type": "dataframe",
              "variable_name": "df"
            },
            "text/html": [
              "\n",
              "  <div id=\"df-7ac88c78-720e-4ef0-99b9-b817596d5556\" class=\"colab-df-container\">\n",
              "    <div>\n",
              "<style scoped>\n",
              "    .dataframe tbody tr th:only-of-type {\n",
              "        vertical-align: middle;\n",
              "    }\n",
              "\n",
              "    .dataframe tbody tr th {\n",
              "        vertical-align: top;\n",
              "    }\n",
              "\n",
              "    .dataframe thead th {\n",
              "        text-align: right;\n",
              "    }\n",
              "</style>\n",
              "<table border=\"1\" class=\"dataframe\">\n",
              "  <thead>\n",
              "    <tr style=\"text-align: right;\">\n",
              "      <th></th>\n",
              "      <th>id</th>\n",
              "      <th>thick</th>\n",
              "      <th>size_unif</th>\n",
              "      <th>marg</th>\n",
              "      <th>cell_size</th>\n",
              "      <th>bare</th>\n",
              "      <th>chrom</th>\n",
              "      <th>normal</th>\n",
              "      <th>mit</th>\n",
              "      <th>class</th>\n",
              "    </tr>\n",
              "  </thead>\n",
              "  <tbody>\n",
              "    <tr>\n",
              "      <th>1000025</th>\n",
              "      <td>5</td>\n",
              "      <td>1</td>\n",
              "      <td>1</td>\n",
              "      <td>1</td>\n",
              "      <td>2</td>\n",
              "      <td>1.0</td>\n",
              "      <td>3</td>\n",
              "      <td>1</td>\n",
              "      <td>1</td>\n",
              "      <td>2</td>\n",
              "    </tr>\n",
              "    <tr>\n",
              "      <th>1002945</th>\n",
              "      <td>5</td>\n",
              "      <td>4</td>\n",
              "      <td>4</td>\n",
              "      <td>5</td>\n",
              "      <td>7</td>\n",
              "      <td>10.0</td>\n",
              "      <td>3</td>\n",
              "      <td>2</td>\n",
              "      <td>1</td>\n",
              "      <td>2</td>\n",
              "    </tr>\n",
              "    <tr>\n",
              "      <th>1015425</th>\n",
              "      <td>3</td>\n",
              "      <td>1</td>\n",
              "      <td>1</td>\n",
              "      <td>1</td>\n",
              "      <td>2</td>\n",
              "      <td>2.0</td>\n",
              "      <td>3</td>\n",
              "      <td>1</td>\n",
              "      <td>1</td>\n",
              "      <td>2</td>\n",
              "    </tr>\n",
              "    <tr>\n",
              "      <th>1016277</th>\n",
              "      <td>6</td>\n",
              "      <td>8</td>\n",
              "      <td>8</td>\n",
              "      <td>1</td>\n",
              "      <td>3</td>\n",
              "      <td>4.0</td>\n",
              "      <td>3</td>\n",
              "      <td>7</td>\n",
              "      <td>1</td>\n",
              "      <td>2</td>\n",
              "    </tr>\n",
              "    <tr>\n",
              "      <th>1017023</th>\n",
              "      <td>4</td>\n",
              "      <td>1</td>\n",
              "      <td>1</td>\n",
              "      <td>3</td>\n",
              "      <td>2</td>\n",
              "      <td>1.0</td>\n",
              "      <td>3</td>\n",
              "      <td>1</td>\n",
              "      <td>1</td>\n",
              "      <td>2</td>\n",
              "    </tr>\n",
              "    <tr>\n",
              "      <th>1017122</th>\n",
              "      <td>8</td>\n",
              "      <td>10</td>\n",
              "      <td>10</td>\n",
              "      <td>8</td>\n",
              "      <td>7</td>\n",
              "      <td>10.0</td>\n",
              "      <td>9</td>\n",
              "      <td>7</td>\n",
              "      <td>1</td>\n",
              "      <td>4</td>\n",
              "    </tr>\n",
              "    <tr>\n",
              "      <th>1018099</th>\n",
              "      <td>1</td>\n",
              "      <td>1</td>\n",
              "      <td>1</td>\n",
              "      <td>1</td>\n",
              "      <td>2</td>\n",
              "      <td>10.0</td>\n",
              "      <td>3</td>\n",
              "      <td>1</td>\n",
              "      <td>1</td>\n",
              "      <td>2</td>\n",
              "    </tr>\n",
              "    <tr>\n",
              "      <th>1018561</th>\n",
              "      <td>2</td>\n",
              "      <td>1</td>\n",
              "      <td>2</td>\n",
              "      <td>1</td>\n",
              "      <td>2</td>\n",
              "      <td>1.0</td>\n",
              "      <td>3</td>\n",
              "      <td>1</td>\n",
              "      <td>1</td>\n",
              "      <td>2</td>\n",
              "    </tr>\n",
              "    <tr>\n",
              "      <th>1033078</th>\n",
              "      <td>2</td>\n",
              "      <td>1</td>\n",
              "      <td>1</td>\n",
              "      <td>1</td>\n",
              "      <td>2</td>\n",
              "      <td>1.0</td>\n",
              "      <td>1</td>\n",
              "      <td>1</td>\n",
              "      <td>5</td>\n",
              "      <td>2</td>\n",
              "    </tr>\n",
              "    <tr>\n",
              "      <th>1033078</th>\n",
              "      <td>4</td>\n",
              "      <td>2</td>\n",
              "      <td>1</td>\n",
              "      <td>1</td>\n",
              "      <td>2</td>\n",
              "      <td>1.0</td>\n",
              "      <td>2</td>\n",
              "      <td>1</td>\n",
              "      <td>1</td>\n",
              "      <td>2</td>\n",
              "    </tr>\n",
              "  </tbody>\n",
              "</table>\n",
              "</div>\n",
              "    <div class=\"colab-df-buttons\">\n",
              "\n",
              "  <div class=\"colab-df-container\">\n",
              "    <button class=\"colab-df-convert\" onclick=\"convertToInteractive('df-7ac88c78-720e-4ef0-99b9-b817596d5556')\"\n",
              "            title=\"Convert this dataframe to an interactive table.\"\n",
              "            style=\"display:none;\">\n",
              "\n",
              "  <svg xmlns=\"http://www.w3.org/2000/svg\" height=\"24px\" viewBox=\"0 -960 960 960\">\n",
              "    <path d=\"M120-120v-720h720v720H120Zm60-500h600v-160H180v160Zm220 220h160v-160H400v160Zm0 220h160v-160H400v160ZM180-400h160v-160H180v160Zm440 0h160v-160H620v160ZM180-180h160v-160H180v160Zm440 0h160v-160H620v160Z\"/>\n",
              "  </svg>\n",
              "    </button>\n",
              "\n",
              "  <style>\n",
              "    .colab-df-container {\n",
              "      display:flex;\n",
              "      gap: 12px;\n",
              "    }\n",
              "\n",
              "    .colab-df-convert {\n",
              "      background-color: #E8F0FE;\n",
              "      border: none;\n",
              "      border-radius: 50%;\n",
              "      cursor: pointer;\n",
              "      display: none;\n",
              "      fill: #1967D2;\n",
              "      height: 32px;\n",
              "      padding: 0 0 0 0;\n",
              "      width: 32px;\n",
              "    }\n",
              "\n",
              "    .colab-df-convert:hover {\n",
              "      background-color: #E2EBFA;\n",
              "      box-shadow: 0px 1px 2px rgba(60, 64, 67, 0.3), 0px 1px 3px 1px rgba(60, 64, 67, 0.15);\n",
              "      fill: #174EA6;\n",
              "    }\n",
              "\n",
              "    .colab-df-buttons div {\n",
              "      margin-bottom: 4px;\n",
              "    }\n",
              "\n",
              "    [theme=dark] .colab-df-convert {\n",
              "      background-color: #3B4455;\n",
              "      fill: #D2E3FC;\n",
              "    }\n",
              "\n",
              "    [theme=dark] .colab-df-convert:hover {\n",
              "      background-color: #434B5C;\n",
              "      box-shadow: 0px 1px 3px 1px rgba(0, 0, 0, 0.15);\n",
              "      filter: drop-shadow(0px 1px 2px rgba(0, 0, 0, 0.3));\n",
              "      fill: #FFFFFF;\n",
              "    }\n",
              "  </style>\n",
              "\n",
              "    <script>\n",
              "      const buttonEl =\n",
              "        document.querySelector('#df-7ac88c78-720e-4ef0-99b9-b817596d5556 button.colab-df-convert');\n",
              "      buttonEl.style.display =\n",
              "        google.colab.kernel.accessAllowed ? 'block' : 'none';\n",
              "\n",
              "      async function convertToInteractive(key) {\n",
              "        const element = document.querySelector('#df-7ac88c78-720e-4ef0-99b9-b817596d5556');\n",
              "        const dataTable =\n",
              "          await google.colab.kernel.invokeFunction('convertToInteractive',\n",
              "                                                    [key], {});\n",
              "        if (!dataTable) return;\n",
              "\n",
              "        const docLinkHtml = 'Like what you see? Visit the ' +\n",
              "          '<a target=\"_blank\" href=https://colab.research.google.com/notebooks/data_table.ipynb>data table notebook</a>'\n",
              "          + ' to learn more about interactive tables.';\n",
              "        element.innerHTML = '';\n",
              "        dataTable['output_type'] = 'display_data';\n",
              "        await google.colab.output.renderOutput(dataTable, element);\n",
              "        const docLink = document.createElement('div');\n",
              "        docLink.innerHTML = docLinkHtml;\n",
              "        element.appendChild(docLink);\n",
              "      }\n",
              "    </script>\n",
              "  </div>\n",
              "\n",
              "\n",
              "<div id=\"df-9238d7f2-50ac-469e-b6df-3bd39a50b7f8\">\n",
              "  <button class=\"colab-df-quickchart\" onclick=\"quickchart('df-9238d7f2-50ac-469e-b6df-3bd39a50b7f8')\"\n",
              "            title=\"Suggest charts\"\n",
              "            style=\"display:none;\">\n",
              "\n",
              "<svg xmlns=\"http://www.w3.org/2000/svg\" height=\"24px\"viewBox=\"0 0 24 24\"\n",
              "     width=\"24px\">\n",
              "    <g>\n",
              "        <path d=\"M19 3H5c-1.1 0-2 .9-2 2v14c0 1.1.9 2 2 2h14c1.1 0 2-.9 2-2V5c0-1.1-.9-2-2-2zM9 17H7v-7h2v7zm4 0h-2V7h2v10zm4 0h-2v-4h2v4z\"/>\n",
              "    </g>\n",
              "</svg>\n",
              "  </button>\n",
              "\n",
              "<style>\n",
              "  .colab-df-quickchart {\n",
              "      --bg-color: #E8F0FE;\n",
              "      --fill-color: #1967D2;\n",
              "      --hover-bg-color: #E2EBFA;\n",
              "      --hover-fill-color: #174EA6;\n",
              "      --disabled-fill-color: #AAA;\n",
              "      --disabled-bg-color: #DDD;\n",
              "  }\n",
              "\n",
              "  [theme=dark] .colab-df-quickchart {\n",
              "      --bg-color: #3B4455;\n",
              "      --fill-color: #D2E3FC;\n",
              "      --hover-bg-color: #434B5C;\n",
              "      --hover-fill-color: #FFFFFF;\n",
              "      --disabled-bg-color: #3B4455;\n",
              "      --disabled-fill-color: #666;\n",
              "  }\n",
              "\n",
              "  .colab-df-quickchart {\n",
              "    background-color: var(--bg-color);\n",
              "    border: none;\n",
              "    border-radius: 50%;\n",
              "    cursor: pointer;\n",
              "    display: none;\n",
              "    fill: var(--fill-color);\n",
              "    height: 32px;\n",
              "    padding: 0;\n",
              "    width: 32px;\n",
              "  }\n",
              "\n",
              "  .colab-df-quickchart:hover {\n",
              "    background-color: var(--hover-bg-color);\n",
              "    box-shadow: 0 1px 2px rgba(60, 64, 67, 0.3), 0 1px 3px 1px rgba(60, 64, 67, 0.15);\n",
              "    fill: var(--button-hover-fill-color);\n",
              "  }\n",
              "\n",
              "  .colab-df-quickchart-complete:disabled,\n",
              "  .colab-df-quickchart-complete:disabled:hover {\n",
              "    background-color: var(--disabled-bg-color);\n",
              "    fill: var(--disabled-fill-color);\n",
              "    box-shadow: none;\n",
              "  }\n",
              "\n",
              "  .colab-df-spinner {\n",
              "    border: 2px solid var(--fill-color);\n",
              "    border-color: transparent;\n",
              "    border-bottom-color: var(--fill-color);\n",
              "    animation:\n",
              "      spin 1s steps(1) infinite;\n",
              "  }\n",
              "\n",
              "  @keyframes spin {\n",
              "    0% {\n",
              "      border-color: transparent;\n",
              "      border-bottom-color: var(--fill-color);\n",
              "      border-left-color: var(--fill-color);\n",
              "    }\n",
              "    20% {\n",
              "      border-color: transparent;\n",
              "      border-left-color: var(--fill-color);\n",
              "      border-top-color: var(--fill-color);\n",
              "    }\n",
              "    30% {\n",
              "      border-color: transparent;\n",
              "      border-left-color: var(--fill-color);\n",
              "      border-top-color: var(--fill-color);\n",
              "      border-right-color: var(--fill-color);\n",
              "    }\n",
              "    40% {\n",
              "      border-color: transparent;\n",
              "      border-right-color: var(--fill-color);\n",
              "      border-top-color: var(--fill-color);\n",
              "    }\n",
              "    60% {\n",
              "      border-color: transparent;\n",
              "      border-right-color: var(--fill-color);\n",
              "    }\n",
              "    80% {\n",
              "      border-color: transparent;\n",
              "      border-right-color: var(--fill-color);\n",
              "      border-bottom-color: var(--fill-color);\n",
              "    }\n",
              "    90% {\n",
              "      border-color: transparent;\n",
              "      border-bottom-color: var(--fill-color);\n",
              "    }\n",
              "  }\n",
              "</style>\n",
              "\n",
              "  <script>\n",
              "    async function quickchart(key) {\n",
              "      const quickchartButtonEl =\n",
              "        document.querySelector('#' + key + ' button');\n",
              "      quickchartButtonEl.disabled = true;  // To prevent multiple clicks.\n",
              "      quickchartButtonEl.classList.add('colab-df-spinner');\n",
              "      try {\n",
              "        const charts = await google.colab.kernel.invokeFunction(\n",
              "            'suggestCharts', [key], {});\n",
              "      } catch (error) {\n",
              "        console.error('Error during call to suggestCharts:', error);\n",
              "      }\n",
              "      quickchartButtonEl.classList.remove('colab-df-spinner');\n",
              "      quickchartButtonEl.classList.add('colab-df-quickchart-complete');\n",
              "    }\n",
              "    (() => {\n",
              "      let quickchartButtonEl =\n",
              "        document.querySelector('#df-9238d7f2-50ac-469e-b6df-3bd39a50b7f8 button');\n",
              "      quickchartButtonEl.style.display =\n",
              "        google.colab.kernel.accessAllowed ? 'block' : 'none';\n",
              "    })();\n",
              "  </script>\n",
              "</div>\n",
              "\n",
              "    </div>\n",
              "  </div>\n"
            ],
            "text/plain": [
              "         id  thick  size_unif  marg  cell_size  bare  chrom  normal  mit  \\\n",
              "1000025   5      1          1     1          2   1.0      3       1    1   \n",
              "1002945   5      4          4     5          7  10.0      3       2    1   \n",
              "1015425   3      1          1     1          2   2.0      3       1    1   \n",
              "1016277   6      8          8     1          3   4.0      3       7    1   \n",
              "1017023   4      1          1     3          2   1.0      3       1    1   \n",
              "1017122   8     10         10     8          7  10.0      9       7    1   \n",
              "1018099   1      1          1     1          2  10.0      3       1    1   \n",
              "1018561   2      1          2     1          2   1.0      3       1    1   \n",
              "1033078   2      1          1     1          2   1.0      1       1    5   \n",
              "1033078   4      2          1     1          2   1.0      2       1    1   \n",
              "\n",
              "         class  \n",
              "1000025      2  \n",
              "1002945      2  \n",
              "1015425      2  \n",
              "1016277      2  \n",
              "1017023      2  \n",
              "1017122      4  \n",
              "1018099      2  \n",
              "1018561      2  \n",
              "1033078      2  \n",
              "1033078      2  "
            ]
          },
          "execution_count": 29,
          "metadata": {},
          "output_type": "execute_result"
        }
      ],
      "source": [
        "names=['id','thick', 'size_unif','marg','cell_size','bare','chrom','normal','mit','class']\n",
        "df=pd.read_csv('https://archive.ics.uci.edu/ml/machine-learning-databases/' +\n",
        "                 'breast-cancer-wisconsin/breast-cancer-wisconsin.data',names=names,na_values='?',header=None)\n",
        "df=df.dropna()\n",
        "df.head(10)"
      ]
    },
    {
      "cell_type": "markdown",
      "metadata": {
        "id": "7rMrQrXRJ_3T"
      },
      "source": [
        "Create a matrix of all the 9 features.\n",
        "\n",
        "Y is a binary indicator if sample is (i) benign (class) or (ii) malignant (class)."
      ]
    },
    {
      "cell_type": "code",
      "execution_count": null,
      "metadata": {
        "id": "HE7llMm4KV4M"
      },
      "outputs": [],
      "source": [
        "# Getting the nine variables (predictors)\n",
        "Xnames=names[1:-1] # You want to exclude 1st and last column\n",
        "X=np.array(df[Xnames])\n",
        "\n",
        "# Converting the response Y to a 0-1 indicator\n",
        "yraw=np.array(df['class'])\n",
        "BEN_VAL=2 # The value for benign in class\n",
        "MAL_VAL=4 #The value for malignant in class\n",
        "y=(yraw==MAL_VAL).astype(int)"
      ]
    },
    {
      "cell_type": "markdown",
      "metadata": {
        "id": "2y44be32fV36"
      },
      "source": [
        "Training and Testing\n"
      ]
    },
    {
      "cell_type": "code",
      "execution_count": null,
      "metadata": {
        "id": "-z14Ry2ggY97"
      },
      "outputs": [],
      "source": [
        "from sklearn.model_selection import train_test_split\n",
        "from sklearn.preprocessing import StandardScaler\n",
        "\n",
        "Xtr,Xts,ytr,yts=train_test_split(X,y,test_size=0.30)\n",
        "# Scale the data\n",
        "\n",
        "scal=StandardScaler()\n",
        "Xtr1=scal.fit_transform(Xtr)\n",
        "Xts1=scal.transform(Xts)"
      ]
    },
    {
      "cell_type": "markdown",
      "metadata": {
        "id": "-v-kmSJzkMh1"
      },
      "source": [
        "Fitting the model and measuring its accuracy"
      ]
    },
    {
      "cell_type": "code",
      "execution_count": null,
      "metadata": {
        "colab": {
          "base_uri": "https://localhost:8080/"
        },
        "id": "_aUph3RUkL41",
        "outputId": "2cb80661-10ac-4883-c742-15af69ad2e9f"
      },
      "outputs": [
        {
          "name": "stdout",
          "output_type": "stream",
          "text": [
            "Accuracy on test dat= 0.946341\n"
          ]
        }
      ],
      "source": [
        "from sklearn import linear_model\n",
        "reg=linear_model.LogisticRegression(C=1e5)\n",
        "reg.fit(Xtr1,ytr)\n",
        "\n",
        "# Measuring the test error\n",
        "yhat=reg.predict(Xts1)\n",
        "acc=np.mean(yhat==yts)\n",
        "print(\"Accuracy on test dat= %f\" %acc)"
      ]
    },
    {
      "cell_type": "markdown",
      "metadata": {
        "id": "oelDLtBmT6nG"
      },
      "source": [
        "Computing Loss and Gradient"
      ]
    },
    {
      "cell_type": "code",
      "execution_count": null,
      "metadata": {
        "colab": {
          "base_uri": "https://localhost:8080/"
        },
        "id": "-zGAMbZjd0gL",
        "outputId": "bc390383-0454-4fa9-e57d-514e46a986fc"
      },
      "outputs": [
        {
          "name": "stdout",
          "output_type": "stream",
          "text": [
            "Loss: 583.7700378905324\n",
            "Gradient: [  28.66254655 -269.12106553 -267.54501881 -236.10211465 -230.48569105\n",
            " -243.05907546 -242.00262817 -230.78170746 -148.65173582]\n"
          ]
        }
      ],
      "source": [
        "import numpy as np\n",
        "\n",
        "class LogisticFun:\n",
        "    def __init__(self, X, y):\n",
        "        \"\"\"\n",
        "        Initialize the logistic function class with input features X and target values y.\n",
        "\n",
        "        Parameters:\n",
        "        X (numpy.ndarray): The input feature matrix (n_samples x n_features).\n",
        "        y (numpy.ndarray): The target values (n_samples,).\n",
        "        \"\"\"\n",
        "        self.X = X\n",
        "        self.y = y\n",
        "        n = X.shape[0]  # Number of samples\n",
        "        # Add a column of ones to X for the intercept term\n",
        "        self.A = np.column_stack((np.ones(n), X))\n",
        "\n",
        "    def feval(self, w):\n",
        "        \"\"\"\n",
        "        Evaluate the binary cross entropy loss and its gradient for a given weight vector w.\n",
        "\n",
        "        Parameters:\n",
        "        w (numpy.ndarray): The weight vector (n_features + 1,).\n",
        "\n",
        "        Returns:\n",
        "        f (float): The binary cross entropy loss.\n",
        "        fgrad (numpy.ndarray): The gradient of the loss with respect to the weight vector.\n",
        "        \"\"\"\n",
        "        # Linear combination\n",
        "        z = self.A.dot(w)\n",
        "\n",
        "        # Sigmoid function\n",
        "        py = 1 / (1 + np.exp(-z))\n",
        "\n",
        "        # Binary cross entropy loss\n",
        "        f = -np.sum(self.y * np.log(py) + (1 - self.y) * np.log(1 - py))\n",
        "\n",
        "        # Gradient of the loss\n",
        "        df_dz = py - self.y\n",
        "        fgrad = self.A.T.dot(df_dz)\n",
        "\n",
        "        return f, fgrad\n",
        "\n",
        "# Example usage\n",
        "log_fun = LogisticFun(Xtr1, ytr)\n",
        "\n",
        "# Some random point\n",
        "p = Xtr1.shape[1] + 1\n",
        "w0 = np.random.randn(p)\n",
        "\n",
        "# Call the function\n",
        "f, fgrad = log_fun.feval(w0)\n",
        "\n",
        "print(\"Loss:\", f)\n",
        "print(\"Gradient:\", fgrad)\n"
      ]
    },
    {
      "cell_type": "markdown",
      "metadata": {
        "id": "iXcgQX7oZ1sz"
      },
      "source": [
        "It is now important to compare the gradient"
      ]
    },
    {
      "cell_type": "code",
      "execution_count": null,
      "metadata": {
        "colab": {
          "base_uri": "https://localhost:8080/"
        },
        "id": "200w8vt1LpdH",
        "outputId": "3926ca8f-3387-42d3-fa93-8a9114c5cd73"
      },
      "outputs": [
        {
          "name": "stdout",
          "output_type": "stream",
          "text": [
            "Actual f1-f0=  -9.2993e-04\n",
            "Predicted f1-f0=  -9.2994e-04\n"
          ]
        }
      ],
      "source": [
        "# A random initial point\n",
        "p=X.shape [1]+1\n",
        "w0=np.random.randn(p)\n",
        "\n",
        "# Perturb the point\n",
        "\n",
        "step=1e-6\n",
        "w1=w0+step*np.random.randn(p)\n",
        "\n",
        "# Measure the function and gradient at w0 and w1\n",
        "f0,fgrad0=log_fun.feval(w0)\n",
        "f1,fgrad1=log_fun.feval(w1)\n",
        "\n",
        "# Predict the amount that the function should change based on their gardient\n",
        "df_est=fgrad0.dot(w1-w0)\n",
        "\n",
        "# Print the actual and predicted values to see if they are close\n",
        "print(\"Actual f1-f0= %12.4e\" %(f1-f0))\n",
        "print(\"Predicted f1-f0= %12.4e\" % df_est)\n",
        "\n"
      ]
    },
    {
      "cell_type": "markdown",
      "metadata": {
        "id": "rBsjVq0sxpPD"
      },
      "source": [
        "A simple Gradient Descent Optimizer"
      ]
    },
    {
      "cell_type": "code",
      "execution_count": null,
      "metadata": {
        "colab": {
          "background_save": true,
          "base_uri": "https://localhost:8080/",
          "height": 375
        },
        "id": "Oyxn5ejSOMif",
        "outputId": "8dd3b134-09b5-416d-eb3f-e644f9cc969d"
      },
      "outputs": [
        {
          "data": {
            "image/png": "[encoded data removed]",
            "text/plain": [
              "<Figure size 640x480 with 1 Axes>"
            ]
          },
          "metadata": {},
          "output_type": "display_data"
        }
      ],
      "source": [
        "import numpy as np\n",
        "import matplotlib.pyplot as plt\n",
        "\n",
        "def grad_opt_sim(feval, winit, lr=1e-3, nit=1000):\n",
        "    \"\"\"\n",
        "    Simple Gradient Descent Optimizer\n",
        "    feval is the function that returns f, fgrad\n",
        "    winit: Initial Estimate\n",
        "    lr=learning rate\n",
        "    nit=number of iterations\n",
        "    \"\"\"\n",
        "    w0 = winit\n",
        "\n",
        "    # For tracking progress in each iteration\n",
        "    hist = {'w': [], 'f': []}\n",
        "\n",
        "    # Loop over iterations\n",
        "    for it in range(nit):\n",
        "        # Evaluate the function and gradient\n",
        "        f0, fgrad0 = feval(w0)\n",
        "        # Take a gradient step\n",
        "        w0 = w0 - lr * fgrad0\n",
        "\n",
        "        # Save history\n",
        "        hist['f'].append(f0)\n",
        "        hist['w'].append(w0)\n",
        "\n",
        "    # Convert to numpy arrays\n",
        "    for elem in ('f', 'w'):\n",
        "        hist[elem] = np.array(hist[elem])\n",
        "\n",
        "    return w0, f0, hist\n",
        "\n",
        "# Assume p is defined somewhere\n",
        "p = 10  # Example value for p\n",
        "winit = np.random.randn(p)\n",
        "def feval(self, w):\n",
        "        \"\"\"\n",
        "        Evaluate the binary cross entropy loss and its gradient for a given weight vector w.\n",
        "\n",
        "        Parameters:\n",
        "        w (numpy.ndarray): The weight vector (n_features + 1,).\n",
        "\n",
        "        Returns:\n",
        "        f (float): The binary cross entropy loss.\n",
        "        fgrad (numpy.ndarray): The gradient of the loss with respect to the weight vector.\n",
        "        \"\"\"\n",
        "        # Linear combination\n",
        "        z = self.A.dot(w)\n",
        "\n",
        "        # Sigmoid function\n",
        "        py = 1 / (1 + np.exp(-z))\n",
        "\n",
        "        # Binary cross entropy loss\n",
        "        f = -np.sum(self.y * np.log(py) + (1 - self.y) * np.log(1 - py))\n",
        "\n",
        "        # Gradient of the loss\n",
        "        df_dz = py - self.y\n",
        "        fgrad = self.A.T.dot(df_dz)\n",
        "\n",
        "        return f, fgrad\n",
        "\n",
        "feval = log_fun.feval\n",
        "nit = 1000\n",
        "lr = 1e-4\n",
        "\n",
        "# Run the gradient descent\n",
        "w, f0, hist = grad_opt_sim(feval, winit, lr=lr, nit=nit)\n",
        "\n",
        "# Plot the training data\n",
        "t = np.arange(nit) + 1\n",
        "plt.semilogx(t, hist['f'])\n",
        "plt.grid()\n",
        "plt.xlabel('Iteration')\n",
        "plt.ylabel('Training loss')\n",
        "plt.show()\n"
      ]
    },
    {
      "cell_type": "markdown",
      "metadata": {
        "id": "_TzgR20WO9SB"
      },
      "source": [
        "Measuring accuracy"
      ]
    },
    {
      "cell_type": "code",
      "execution_count": null,
      "metadata": {
        "colab": {
          "base_uri": "https://localhost:8080/",
          "height": 351
        },
        "id": "n0d5qU50PCi6",
        "outputId": "51ac6203-9f67-4d4a-8aad-1ce02fd6c99a"
      },
      "outputs": [
        {
          "ename": "ValueError",
          "evalue": "shapes (205,8) and (9,) not aligned: 8 (dim 1) != 9 (dim 0)",
          "output_type": "error",
          "traceback": [
            "\u001b[0;31m---------------------------------------------------------------------------\u001b[0m",
            "\u001b[0;31mValueError\u001b[0m                                Traceback (most recent call last)",
            "\u001b[0;32m<ipython-input-27-f188456fc6b1>\u001b[0m in \u001b[0;36m<cell line: 6>\u001b[0;34m()\u001b[0m\n\u001b[1;32m      4\u001b[0m     \u001b[0;32mreturn\u001b[0m \u001b[0myhat\u001b[0m\u001b[0;34m\u001b[0m\u001b[0;34m\u001b[0m\u001b[0m\n\u001b[1;32m      5\u001b[0m \u001b[0;34m\u001b[0m\u001b[0m\n\u001b[0;32m----> 6\u001b[0;31m \u001b[0myhat\u001b[0m \u001b[0;34m=\u001b[0m \u001b[0mpredict\u001b[0m\u001b[0;34m(\u001b[0m\u001b[0mXts1\u001b[0m\u001b[0;34m,\u001b[0m \u001b[0mw\u001b[0m\u001b[0;34m)\u001b[0m\u001b[0;34m\u001b[0m\u001b[0;34m\u001b[0m\u001b[0m\n\u001b[0m\u001b[1;32m      7\u001b[0m \u001b[0macc\u001b[0m \u001b[0;34m=\u001b[0m \u001b[0mnp\u001b[0m\u001b[0;34m.\u001b[0m\u001b[0mmean\u001b[0m\u001b[0;34m(\u001b[0m\u001b[0myhat\u001b[0m \u001b[0;34m==\u001b[0m \u001b[0myts\u001b[0m\u001b[0;34m)\u001b[0m\u001b[0;34m\u001b[0m\u001b[0;34m\u001b[0m\u001b[0m\n\u001b[1;32m      8\u001b[0m \u001b[0mprint\u001b[0m\u001b[0;34m(\u001b[0m\u001b[0;34m\"Test Accuracy=%f\"\u001b[0m \u001b[0;34m%\u001b[0m \u001b[0macc\u001b[0m\u001b[0;34m)\u001b[0m\u001b[0;34m\u001b[0m\u001b[0;34m\u001b[0m\u001b[0m\n",
            "\u001b[0;32m<ipython-input-27-f188456fc6b1>\u001b[0m in \u001b[0;36mpredict\u001b[0;34m(X, w)\u001b[0m\n\u001b[1;32m      1\u001b[0m \u001b[0;32mdef\u001b[0m \u001b[0mpredict\u001b[0m\u001b[0;34m(\u001b[0m\u001b[0mX\u001b[0m\u001b[0;34m,\u001b[0m \u001b[0mw\u001b[0m\u001b[0;34m)\u001b[0m\u001b[0;34m:\u001b[0m\u001b[0;34m\u001b[0m\u001b[0;34m\u001b[0m\u001b[0m\n\u001b[0;32m----> 2\u001b[0;31m     \u001b[0mz\u001b[0m \u001b[0;34m=\u001b[0m \u001b[0mX\u001b[0m\u001b[0;34m.\u001b[0m\u001b[0mdot\u001b[0m\u001b[0;34m(\u001b[0m\u001b[0mw\u001b[0m\u001b[0;34m[\u001b[0m\u001b[0;36m1\u001b[0m\u001b[0;34m:\u001b[0m\u001b[0;34m]\u001b[0m\u001b[0;34m)\u001b[0m \u001b[0;34m+\u001b[0m \u001b[0mw\u001b[0m\u001b[0;34m[\u001b[0m\u001b[0;36m0\u001b[0m\u001b[0;34m]\u001b[0m  \u001b[0;31m# Separate the bias term\u001b[0m\u001b[0;34m\u001b[0m\u001b[0;34m\u001b[0m\u001b[0m\n\u001b[0m\u001b[1;32m      3\u001b[0m     \u001b[0myhat\u001b[0m \u001b[0;34m=\u001b[0m \u001b[0;34m(\u001b[0m\u001b[0mz\u001b[0m \u001b[0;34m>\u001b[0m \u001b[0;36m0\u001b[0m\u001b[0;34m)\u001b[0m\u001b[0;34m.\u001b[0m\u001b[0mastype\u001b[0m\u001b[0;34m(\u001b[0m\u001b[0mint\u001b[0m\u001b[0;34m)\u001b[0m  \u001b[0;31m# Convert to 0/1 predictions\u001b[0m\u001b[0;34m\u001b[0m\u001b[0;34m\u001b[0m\u001b[0m\n\u001b[1;32m      4\u001b[0m     \u001b[0;32mreturn\u001b[0m \u001b[0myhat\u001b[0m\u001b[0;34m\u001b[0m\u001b[0;34m\u001b[0m\u001b[0m\n\u001b[1;32m      5\u001b[0m \u001b[0;34m\u001b[0m\u001b[0m\n",
            "\u001b[0;31mValueError\u001b[0m: shapes (205,8) and (9,) not aligned: 8 (dim 1) != 9 (dim 0)"
          ]
        }
      ],
      "source": [
        "def predict(X, w):\n",
        "    z = X.dot(w[1:]) + w[0]  # Separate the bias term\n",
        "    yhat = (z > 0).astype(int)  # Convert to 0/1 predictions\n",
        "    return yhat\n",
        "\n",
        "yhat = predict(Xts1, w)\n",
        "acc = np.mean(yhat == yts)\n",
        "print(\"Test Accuracy=%f\" % acc)"
      ]
    }
  ],
  "metadata": {
    "colab": {
      "provenance": []
    },
    "kernelspec": {
      "display_name": "Python 3",
      "name": "python3"
    },
    "language_info": {
      "name": "python"
    }
  },
  "nbformat": 4,
  "nbformat_minor": 0
}